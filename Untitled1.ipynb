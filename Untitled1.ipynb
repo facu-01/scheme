{
 "cells": [
  {
   "cell_type": "markdown",
   "id": "59b5171c-2d15-4cce-a30f-112be0cf1708",
   "metadata": {
    "jp-MarkdownHeadingCollapsed": true,
    "tags": []
   },
   "source": [
    "# Exercise 1.1"
   ]
  },
  {
   "cell_type": "code",
   "execution_count": 1,
   "id": "600c060f-9206-4985-9a1e-e0bbbea6ea16",
   "metadata": {
    "tags": []
   },
   "outputs": [
    {
     "data": {
      "text/html": [
       "<code>10</code>"
      ],
      "text/plain": [
       "10"
      ]
     },
     "execution_count": 1,
     "metadata": {},
     "output_type": "execute_result"
    }
   ],
   "source": [
    "10"
   ]
  },
  {
   "cell_type": "code",
   "execution_count": 2,
   "id": "b0e39b80-e5df-4115-8320-087ba44b9cb1",
   "metadata": {
    "tags": []
   },
   "outputs": [
    {
     "data": {
      "text/html": [
       "<code>12</code>"
      ],
      "text/plain": [
       "12"
      ]
     },
     "execution_count": 2,
     "metadata": {},
     "output_type": "execute_result"
    }
   ],
   "source": [
    "(+ 5 3 4)"
   ]
  },
  {
   "cell_type": "code",
   "execution_count": 3,
   "id": "467296b7-8190-4a5e-8dd0-28740de68ec0",
   "metadata": {
    "tags": []
   },
   "outputs": [
    {
     "data": {
      "text/html": [
       "<code>8</code>"
      ],
      "text/plain": [
       "8"
      ]
     },
     "execution_count": 3,
     "metadata": {},
     "output_type": "execute_result"
    }
   ],
   "source": [
    "(- 9 1)"
   ]
  },
  {
   "cell_type": "code",
   "execution_count": 4,
   "id": "c125b1ce-8d0a-4a21-8384-8a229e4342a7",
   "metadata": {
    "tags": []
   },
   "outputs": [
    {
     "data": {
      "text/html": [
       "<code>3</code>"
      ],
      "text/plain": [
       "3"
      ]
     },
     "execution_count": 4,
     "metadata": {},
     "output_type": "execute_result"
    }
   ],
   "source": [
    "(/ 6 2)"
   ]
  },
  {
   "cell_type": "code",
   "execution_count": 5,
   "id": "b29f688e-04ba-4e00-9477-3deda694acb7",
   "metadata": {
    "tags": []
   },
   "outputs": [
    {
     "data": {
      "text/html": [
       "<code>6</code>"
      ],
      "text/plain": [
       "6"
      ]
     },
     "execution_count": 5,
     "metadata": {},
     "output_type": "execute_result"
    }
   ],
   "source": [
    "(+ (* 2 4) (- 4 6))"
   ]
  },
  {
   "cell_type": "code",
   "execution_count": 6,
   "id": "b15bb74c-8068-46a1-9930-4104c3f0251a",
   "metadata": {
    "tags": []
   },
   "outputs": [],
   "source": [
    "(define a 3)"
   ]
  },
  {
   "cell_type": "code",
   "execution_count": 7,
   "id": "62d5d94e-4464-41e3-8011-ba88769dd7b7",
   "metadata": {
    "tags": []
   },
   "outputs": [],
   "source": [
    "(define b (+ a 1))"
   ]
  },
  {
   "cell_type": "code",
   "execution_count": 8,
   "id": "218dce8b-1c79-4f0d-b0cd-e3773672fbf5",
   "metadata": {
    "tags": []
   },
   "outputs": [
    {
     "data": {
      "text/html": [
       "<code>#f</code>"
      ],
      "text/plain": [
       "#f"
      ]
     },
     "execution_count": 8,
     "metadata": {},
     "output_type": "execute_result"
    }
   ],
   "source": [
    "(= a b)"
   ]
  },
  {
   "cell_type": "code",
   "execution_count": 9,
   "id": "99202515-8fc7-4b2f-b079-9e4700d06533",
   "metadata": {
    "tags": []
   },
   "outputs": [
    {
     "data": {
      "text/html": [
       "<code>4</code>"
      ],
      "text/plain": [
       "4"
      ]
     },
     "execution_count": 9,
     "metadata": {},
     "output_type": "execute_result"
    }
   ],
   "source": [
    "(if (and (> b a) (< b (* a b)))\n",
    "    b\n",
    "    a\n",
    "    )"
   ]
  },
  {
   "cell_type": "code",
   "execution_count": 10,
   "id": "5b3ad99f-1cc6-42c3-b5ff-bc5dafb078ac",
   "metadata": {
    "tags": []
   },
   "outputs": [
    {
     "data": {
      "text/html": [
       "<code>16</code>"
      ],
      "text/plain": [
       "16"
      ]
     },
     "execution_count": 10,
     "metadata": {},
     "output_type": "execute_result"
    }
   ],
   "source": [
    "(cond ((= a 4) 6)\n",
    "      ((= b 4) (+ 6 7 a))\n",
    "      (else 25)      )"
   ]
  },
  {
   "cell_type": "code",
   "execution_count": 11,
   "id": "415fad94-896e-42c5-8b4c-cc9fbbd13cf2",
   "metadata": {
    "tags": []
   },
   "outputs": [
    {
     "data": {
      "text/html": [
       "<code>6</code>"
      ],
      "text/plain": [
       "6"
      ]
     },
     "execution_count": 11,
     "metadata": {},
     "output_type": "execute_result"
    }
   ],
   "source": [
    "(+ 2 (if (> b a) b a))"
   ]
  },
  {
   "cell_type": "code",
   "execution_count": 12,
   "id": "091cc7c6-b1e1-4848-9a54-6f7c9aadd8c8",
   "metadata": {
    "tags": []
   },
   "outputs": [
    {
     "data": {
      "text/html": [
       "<code>16</code>"
      ],
      "text/plain": [
       "16"
      ]
     },
     "execution_count": 12,
     "metadata": {},
     "output_type": "execute_result"
    }
   ],
   "source": [
    "(* (cond ((> a b) a)\n",
    "         ((< a b) b)\n",
    "         (else -1))\n",
    "   (+ a 1)\n",
    "   )"
   ]
  },
  {
   "cell_type": "markdown",
   "id": "f8918148-cf5e-440d-86f6-45f253ad953b",
   "metadata": {
    "tags": []
   },
   "source": [
    "# Exercise 1.2"
   ]
  },
  {
   "cell_type": "code",
   "execution_count": null,
   "id": "3a4e3aa8-8959-4f10-8732-23a6deac7d5a",
   "metadata": {},
   "outputs": [],
   "source": []
  }
 ],
 "metadata": {
  "kernelspec": {
   "display_name": "Racket",
   "language": "racket",
   "name": "racket"
  },
  "language_info": {
   "codemirror_mode": "scheme",
   "file_extension": ".rkt",
   "mimetype": "text/x-racket",
   "name": "Racket",
   "pygments_lexer": "racket",
   "version": "8.9"
  }
 },
 "nbformat": 4,
 "nbformat_minor": 5
}
