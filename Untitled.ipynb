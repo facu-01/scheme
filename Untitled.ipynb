{
 "cells": [
  {
   "cell_type": "code",
   "execution_count": null,
   "id": "27633dbe-42d1-406a-825f-489f83943dbe",
   "metadata": {},
   "outputs": [],
   "source": [
    "(define (abs x)\n",
    "  (cond ( (< x 0) - x)\n",
    "        (else x)\n",
    "        )\n",
    "  )"
   ]
  },
  {
   "cell_type": "code",
   "execution_count": 12,
   "id": "a1cb8e93-8ae2-429c-a094-93c54e2e1225",
   "metadata": {
    "tags": []
   },
   "outputs": [
    {
     "data": {
      "text/html": [
       "<code>9</code>"
      ],
      "text/plain": [
       "9"
      ]
     },
     "execution_count": 12,
     "metadata": {},
     "output_type": "execute_result"
    }
   ],
   "source": [
    "(abs 9)"
   ]
  },
  {
   "cell_type": "markdown",
   "id": "3857ff95-9fe7-4b5e-a617-87bed6c83fb5",
   "metadata": {},
   "source": [
    "Defs:\n",
    "* predicate: procedures that return true or false"
   ]
  },
  {
   "cell_type": "code",
   "execution_count": null,
   "id": "74db7b60-c81d-4280-af62-d3dbf252b9c8",
   "metadata": {},
   "outputs": [],
   "source": []
  }
 ],
 "metadata": {
  "kernelspec": {
   "display_name": "Racket",
   "language": "racket",
   "name": "racket"
  },
  "language_info": {
   "codemirror_mode": "scheme",
   "file_extension": ".rkt",
   "mimetype": "text/x-racket",
   "name": "Racket",
   "pygments_lexer": "racket",
   "version": "8.9"
  }
 },
 "nbformat": 4,
 "nbformat_minor": 5
}
